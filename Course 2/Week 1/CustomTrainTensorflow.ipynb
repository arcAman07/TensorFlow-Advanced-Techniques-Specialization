{
  "nbformat": 4,
  "nbformat_minor": 0,
  "metadata": {
    "colab": {
      "name": "CustomTrainTensorflow.ipynb",
      "provenance": []
    },
    "kernelspec": {
      "name": "python3",
      "display_name": "Python 3"
    },
    "language_info": {
      "name": "python"
    }
  },
  "cells": [
    {
      "cell_type": "code",
      "execution_count": 1,
      "metadata": {
        "id": "B1K629Hpym1q"
      },
      "outputs": [],
      "source": [
        "import tensorflow as tf"
      ]
    },
    {
      "cell_type": "code",
      "source": [
        "import numpy as np"
      ],
      "metadata": {
        "id": "obleBOz01wT5"
      },
      "execution_count": 2,
      "outputs": []
    },
    {
      "cell_type": "code",
      "source": [
        "tf.version"
      ],
      "metadata": {
        "colab": {
          "base_uri": "https://localhost:8080/"
        },
        "id": "DTyqaq9l0guL",
        "outputId": "fc23e024-b7be-4de0-ced8-b43853eb6555"
      },
      "execution_count": 3,
      "outputs": [
        {
          "output_type": "execute_result",
          "data": {
            "text/plain": [
              "<module 'tensorflow._api.v2.version' from '/usr/local/lib/python3.7/dist-packages/tensorflow/_api/v2/version/__init__.py'>"
            ]
          },
          "metadata": {},
          "execution_count": 3
        }
      ]
    },
    {
      "cell_type": "code",
      "source": [
        "x_train = np.array([-1.0,0.0,1.0,2.0,3.0,4.0,5.0,6.0,7.0,8.0,9.0], dtype=float)"
      ],
      "metadata": {
        "id": "sg4RyWif0gw6"
      },
      "execution_count": 4,
      "outputs": []
    },
    {
      "cell_type": "code",
      "source": [
        "y_train = np.array([-3.0,-1.0,1.0,3.0,5.0,7.0,9.0,11.0,13.0,15.0,17.0], dtype=float)"
      ],
      "metadata": {
        "id": "_wJpddwU0gz8"
      },
      "execution_count": 5,
      "outputs": []
    },
    {
      "cell_type": "code",
      "source": [
        "import random"
      ],
      "metadata": {
        "id": "eR2OKfSa2UCk"
      },
      "execution_count": 6,
      "outputs": []
    },
    {
      "cell_type": "code",
      "source": [
        "w = tf.Variable(random.random(), trainable = True)"
      ],
      "metadata": {
        "id": "2of6MxoU0g28"
      },
      "execution_count": 7,
      "outputs": []
    },
    {
      "cell_type": "code",
      "source": [
        "b = tf.Variable(random.random(), trainable = True)"
      ],
      "metadata": {
        "id": "qBqEViiF0bVZ"
      },
      "execution_count": 8,
      "outputs": []
    },
    {
      "cell_type": "code",
      "source": [
        "def simple_loss(real_y,pred_y):\n",
        "  return tf.abs(real_y-pred_y)"
      ],
      "metadata": {
        "id": "WSTNlJCT0bX4"
      },
      "execution_count": 9,
      "outputs": []
    },
    {
      "cell_type": "code",
      "source": [
        "LEARNING_RATE = 0.001"
      ],
      "metadata": {
        "id": "BI0xNfYb2c87"
      },
      "execution_count": 10,
      "outputs": []
    },
    {
      "cell_type": "code",
      "source": [
        "def fit_data(real_x,real_y):\n",
        "  with tf.GradientTape(persistent=True) as tape:\n",
        "    pred_y = real_x*w + b\n",
        "    reg_loss = simple_loss(real_y,pred_y)\n",
        "  w_gradient = tape.gradient(reg_loss,w)\n",
        "  b_gradient = tape.gradient(reg_loss,b)\n",
        "  w.assign_sub(w_gradient * LEARNING_RATE)\n",
        "  b.assign_sub(b_gradient * LEARNING_RATE)"
      ],
      "metadata": {
        "id": "fCQqajs-29aM"
      },
      "execution_count": 11,
      "outputs": []
    },
    {
      "cell_type": "code",
      "source": [
        "for _ in range(500):\n",
        "  fit_data(x_train,y_train)"
      ],
      "metadata": {
        "id": "xcwIcvch2c_e"
      },
      "execution_count": 12,
      "outputs": []
    },
    {
      "cell_type": "code",
      "source": [
        "print(f'y ≈ {w.numpy()}x + {b.numpy()}')"
      ],
      "metadata": {
        "colab": {
          "base_uri": "https://localhost:8080/"
        },
        "id": "YDByzITj2dCi",
        "outputId": "42c3f44d-5ec6-4348-b445-66df21840dc2"
      },
      "execution_count": 13,
      "outputs": [
        {
          "output_type": "stream",
          "name": "stdout",
          "text": [
            "y ≈ 1.972914695739746x + -1.0006825923919678\n"
          ]
        }
      ]
    },
    {
      "cell_type": "code",
      "source": [
        ""
      ],
      "metadata": {
        "id": "nsH4WHfJ2dFh"
      },
      "execution_count": null,
      "outputs": []
    },
    {
      "cell_type": "code",
      "source": [
        ""
      ],
      "metadata": {
        "id": "LYKYBpkN2dIM"
      },
      "execution_count": null,
      "outputs": []
    }
  ]
}