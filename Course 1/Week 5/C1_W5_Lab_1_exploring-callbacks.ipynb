{
 "cells": [
  {
   "cell_type": "markdown",
   "metadata": {
    "colab_type": "text",
    "id": "view-in-github"
   },
   "source": [
    "<a href=\"https://colab.research.google.com/github/https-deeplearning-ai/tensorflow-3-public/blob/main/Course%201%20-%20Custom%20Models%2C%20Layers%20and%20Loss%20Functions/Week%205%20-%20Callbacks/C1_W5_Lab_1_exploring-callbacks.ipynb\" target=\"_parent\"><img src=\"https://colab.research.google.com/assets/colab-badge.svg\" alt=\"Open In Colab\"/></a>"
   ]
  },
  {
   "cell_type": "markdown",
   "metadata": {
    "colab_type": "text",
    "id": "0c_TYhQOUe1j"
   },
   "source": [
    "# Ungraded Lab: Introduction to Keras callbacks\n",
    "\n",
    "In Keras, `Callback` is a Python class meant to be subclassed to provide specific functionality, with a set of methods called at various stages of training (including batch/epoch start and ends), testing, and predicting. Callbacks are useful to get a view on internal states and statistics of the model during training. The methods of the callbacks can  be called at different stages of training/evaluating/inference. Keras has available [callbacks](https://keras.io/api/callbacks/) and we'll show how you can use it in the following sections. Please click the **Open in Colab** badge above to complete this exercise in Colab. This will allow you to take advantage of the free GPU runtime (for faster training) and compatibility with all the packages needed in this notebook."
   ]
  },
  {
   "cell_type": "markdown",
   "metadata": {
    "colab_type": "text",
    "id": "Uyl69EyRQx-f"
   },
   "source": [
    "## Model methods that take callbacks\n",
    "Users can supply a list of callbacks to the following `tf.keras.Model` methods:\n",
    "* [`fit()`](https://www.tensorflow.org/versions/r2.0/api_docs/python/tf/keras/Model#fit), [`fit_generator()`](https://www.tensorflow.org/versions/r2.0/api_docs/python/tf/keras/Model#fit_generator)\n",
    "Trains the model for a fixed number of epochs (iterations over a dataset, or data yielded batch-by-batch by a Python generator).\n",
    "* [`evaluate()`](https://www.tensorflow.org/versions/r2.0/api_docs/python/tf/keras/Model#evaluate), [`evaluate_generator()`](https://www.tensorflow.org/versions/r2.0/api_docs/python/tf/keras/Model#evaluate_generator)\n",
    "Evaluates the model for given data or data generator. Outputs the loss and metric values from the evaluation.\n",
    "* [`predict()`](https://www.tensorflow.org/versions/r2.0/api_docs/python/tf/keras/Model#predict), [`predict_generator()`](https://www.tensorflow.org/versions/r2.0/api_docs/python/tf/keras/Model#predict_generator)\n",
    "Generates output predictions for the input data or data generator."
   ]
  },
  {
   "cell_type": "markdown",
   "metadata": {},
   "source": [
    "## Imports"
   ]
  },
  {
   "cell_type": "code",
   "execution_count": 1,
   "metadata": {
    "colab": {},
    "colab_type": "code",
    "id": "AlT1Kh3uA9lZ"
   },
   "outputs": [
    {
     "name": "stdout",
     "output_type": "stream",
     "text": [
      "Version:  2.1.0\n"
     ]
    }
   ],
   "source": [
    "from __future__ import absolute_import, division, print_function, unicode_literals\n",
    "\n",
    "try:\n",
    "    # %tensorflow_version only exists in Colab.\n",
    "    %tensorflow_version 2.x\n",
    "except Exception:\n",
    "    pass\n",
    "\n",
    "import tensorflow as tf\n",
    "import tensorflow_datasets as tfds\n",
    "import matplotlib.pyplot as plt\n",
    "import io\n",
    "from PIL import Image\n",
    "\n",
    "from tensorflow.keras.callbacks import TensorBoard, EarlyStopping, LearningRateScheduler, ModelCheckpoint, CSVLogger, ReduceLROnPlateau\n",
    "%load_ext tensorboard\n",
    "\n",
    "import os\n",
    "import matplotlib.pylab as plt\n",
    "import numpy as np\n",
    "import math\n",
    "import datetime\n",
    "import pandas as pd\n",
    "\n",
    "print(\"Version: \", tf.__version__)\n",
    "tf.get_logger().setLevel('INFO')"
   ]
  },
  {
   "cell_type": "markdown",
   "metadata": {
    "colab_type": "text",
    "id": "HnSljqtsXKfb"
   },
   "source": [
    "# Examples of Keras callback applications\n",
    "The following section will guide you through creating simple [Callback](https://keras.io/api/callbacks/) applications."
   ]
  },
  {
   "cell_type": "code",
   "execution_count": 2,
   "metadata": {
    "colab": {},
    "colab_type": "code",
    "id": "spskRuxvCYQE"
   },
   "outputs": [],
   "source": [
    "# Download and prepare the horses or humans dataset\n",
    "\n",
    "# horses_or_humans 3.0.0 has already been downloaded for you\n",
    "path = \"./tensorflow_datasets\"\n",
    "splits, info = tfds.load('horses_or_humans', data_dir=path, as_supervised=True, with_info=True, split=['train[:80%]', 'train[80%:]', 'test'])\n",
    "\n",
    "(train_examples, validation_examples, test_examples) = splits\n",
    "\n",
    "num_examples = info.splits['train'].num_examples\n",
    "num_classes = info.features['label'].num_classes"
   ]
  },
  {
   "cell_type": "code",
   "execution_count": 3,
   "metadata": {
    "colab": {},
    "colab_type": "code",
    "id": "veIsubKTCZsN"
   },
   "outputs": [],
   "source": [
    "SIZE = 150 #@param {type:\"slider\", min:64, max:300, step:1}\n",
    "IMAGE_SIZE = (SIZE, SIZE)"
   ]
  },
  {
   "cell_type": "code",
   "execution_count": 4,
   "metadata": {
    "colab": {},
    "colab_type": "code",
    "id": "faajLlErCb1S"
   },
   "outputs": [],
   "source": [
    "def format_image(image, label):\n",
    "  image = tf.image.resize(image, IMAGE_SIZE) / 255.0\n",
    "  return  image, label"
   ]
  },
  {
   "cell_type": "code",
   "execution_count": 5,
   "metadata": {
    "colab": {},
    "colab_type": "code",
    "id": "AVXPuU12Cdka"
   },
   "outputs": [],
   "source": [
    "BATCH_SIZE = 32 #@param {type:\"integer\"}"
   ]
  },
  {
   "cell_type": "code",
   "execution_count": 6,
   "metadata": {
    "colab": {},
    "colab_type": "code",
    "id": "0lHDkFVaCe48"
   },
   "outputs": [],
   "source": [
    "train_batches = train_examples.shuffle(num_examples // 4).map(format_image).batch(BATCH_SIZE).prefetch(1)\n",
    "validation_batches = validation_examples.map(format_image).batch(BATCH_SIZE).prefetch(1)\n",
    "test_batches = test_examples.map(format_image).batch(1)"
   ]
  },
  {
   "cell_type": "code",
   "execution_count": 7,
   "metadata": {
    "colab": {},
    "colab_type": "code",
    "id": "DxsCqEIkCgUt"
   },
   "outputs": [
    {
     "data": {
      "text/plain": [
       "TensorShape([32, 150, 150, 3])"
      ]
     },
     "execution_count": 7,
     "metadata": {},
     "output_type": "execute_result"
    }
   ],
   "source": [
    "for image_batch, label_batch in train_batches.take(1):\n",
    "  pass\n",
    "\n",
    "image_batch.shape"
   ]
  },
  {
   "cell_type": "code",
   "execution_count": 8,
   "metadata": {
    "colab": {},
    "colab_type": "code",
    "id": "iDBpWvHXCh2A"
   },
   "outputs": [],
   "source": [
    "def build_model(dense_units, input_shape=IMAGE_SIZE + (3,)):\n",
    "  model = tf.keras.models.Sequential([\n",
    "      tf.keras.layers.Conv2D(16, (3, 3), activation='relu', input_shape=input_shape),\n",
    "      tf.keras.layers.MaxPooling2D(2, 2),\n",
    "      tf.keras.layers.Conv2D(32, (3, 3), activation='relu'),\n",
    "      tf.keras.layers.MaxPooling2D(2, 2),\n",
    "      tf.keras.layers.Conv2D(64, (3, 3), activation='relu'),\n",
    "      tf.keras.layers.MaxPooling2D(2, 2),\n",
    "      tf.keras.layers.Flatten(),\n",
    "      tf.keras.layers.Dense(dense_units, activation='relu'),\n",
    "      tf.keras.layers.Dense(2, activation='softmax')\n",
    "  ])\n",
    "  return model"
   ]
  },
  {
   "cell_type": "markdown",
   "metadata": {
    "colab_type": "text",
    "id": "0ZKGkjagENSw"
   },
   "source": [
    "## [TensorBoard](https://keras.io/api/callbacks/tensorboard/)\n",
    "\n",
    "Enable visualizations for TensorBoard."
   ]
  },
  {
   "cell_type": "code",
   "execution_count": 9,
   "metadata": {
    "colab": {},
    "colab_type": "code",
    "id": "CeiD2WVEHbex"
   },
   "outputs": [],
   "source": [
    "!rm -rf logs"
   ]
  },
  {
   "cell_type": "code",
   "execution_count": 10,
   "metadata": {
    "colab": {},
    "colab_type": "code",
    "id": "PpLwPLnAEOzv"
   },
   "outputs": [
    {
     "name": "stdout",
     "output_type": "stream",
     "text": [
      "Epoch 1/10\n",
      "26/26 [==============================] - 21s 798ms/step - loss: 0.6552 - accuracy: 0.6168 - val_loss: 0.6130 - val_accuracy: 0.7073\n",
      "Epoch 2/10\n",
      "26/26 [==============================] - 20s 761ms/step - loss: 0.6026 - accuracy: 0.6849 - val_loss: 0.5966 - val_accuracy: 0.6829\n",
      "Epoch 3/10\n",
      "26/26 [==============================] - 20s 754ms/step - loss: 0.5664 - accuracy: 0.7141 - val_loss: 0.6571 - val_accuracy: 0.5512\n",
      "Epoch 4/10\n",
      "26/26 [==============================] - 20s 766ms/step - loss: 0.5035 - accuracy: 0.7616 - val_loss: 0.4680 - val_accuracy: 0.8049\n",
      "Epoch 5/10\n",
      "26/26 [==============================] - 20s 753ms/step - loss: 0.4434 - accuracy: 0.8041 - val_loss: 0.4121 - val_accuracy: 0.8146\n",
      "Epoch 6/10\n",
      "26/26 [==============================] - 20s 761ms/step - loss: 0.4130 - accuracy: 0.8175 - val_loss: 0.3617 - val_accuracy: 0.8634\n",
      "Epoch 7/10\n",
      "26/26 [==============================] - 20s 758ms/step - loss: 0.3648 - accuracy: 0.8382 - val_loss: 0.3174 - val_accuracy: 0.8976\n",
      "Epoch 8/10\n",
      "26/26 [==============================] - 20s 769ms/step - loss: 0.3344 - accuracy: 0.8723 - val_loss: 0.2657 - val_accuracy: 0.9171\n",
      "Epoch 9/10\n",
      "26/26 [==============================] - 20s 766ms/step - loss: 0.2882 - accuracy: 0.8881 - val_loss: 0.2447 - val_accuracy: 0.8976\n",
      "Epoch 10/10\n",
      "26/26 [==============================] - 20s 773ms/step - loss: 0.2471 - accuracy: 0.9234 - val_loss: 0.1849 - val_accuracy: 0.9561\n"
     ]
    },
    {
     "data": {
      "text/plain": [
       "<tensorflow.python.keras.callbacks.History at 0x7f15ece0fc10>"
      ]
     },
     "execution_count": 10,
     "metadata": {},
     "output_type": "execute_result"
    }
   ],
   "source": [
    "model = build_model(dense_units=256)\n",
    "model.compile(\n",
    "    optimizer='sgd',\n",
    "    loss='sparse_categorical_crossentropy', \n",
    "    metrics=['accuracy'])\n",
    "  \n",
    "logdir = os.path.join(\"logs\", datetime.datetime.now().strftime(\"%Y%m%d-%H%M%S\"))\n",
    "tensorboard_callback = tf.keras.callbacks.TensorBoard(logdir)\n",
    "\n",
    "model.fit(train_batches, \n",
    "          epochs=10, \n",
    "          validation_data=validation_batches, \n",
    "          callbacks=[tensorboard_callback])"
   ]
  },
  {
   "cell_type": "code",
   "execution_count": 11,
   "metadata": {
    "colab": {},
    "colab_type": "code",
    "id": "iJunWOjZE0ir"
   },
   "outputs": [
    {
     "data": {
      "text/html": [
       "\n",
       "      <iframe id=\"tensorboard-frame-bb253ca9752bcb51\" width=\"100%\" height=\"800\" frameborder=\"0\">\n",
       "      </iframe>\n",
       "      <script>\n",
       "        (function() {\n",
       "          const frame = document.getElementById(\"tensorboard-frame-bb253ca9752bcb51\");\n",
       "          const url = new URL(\"/\", window.location);\n",
       "          url.port = 6006;\n",
       "          frame.src = url;\n",
       "        })();\n",
       "      </script>\n",
       "  "
      ],
      "text/plain": [
       "<IPython.core.display.HTML object>"
      ]
     },
     "metadata": {},
     "output_type": "display_data"
    }
   ],
   "source": [
    "%tensorboard --logdir logs"
   ]
  },
  {
   "cell_type": "markdown",
   "metadata": {
    "colab_type": "text",
    "id": "wv9H4Pc2Mfl7"
   },
   "source": [
    "## [Model Checkpoint](https://keras.io/api/callbacks/model_checkpoint/)\n",
    "\n",
    "Callback to save the Keras model or model weights at some frequency."
   ]
  },
  {
   "cell_type": "code",
   "execution_count": 12,
   "metadata": {
    "colab": {},
    "colab_type": "code",
    "id": "PYV4FJ8iMmDq"
   },
   "outputs": [
    {
     "name": "stdout",
     "output_type": "stream",
     "text": [
      "Epoch 1/5\n",
      "\n",
      "Epoch 00001: saving model to weights.01-0.65.h5\n",
      "26/26 - 20s - loss: 0.6717 - accuracy: 0.5791 - val_loss: 0.6473 - val_accuracy: 0.8000\n",
      "Epoch 2/5\n",
      "\n",
      "Epoch 00002: saving model to weights.02-0.59.h5\n",
      "26/26 - 20s - loss: 0.6254 - accuracy: 0.7141 - val_loss: 0.5889 - val_accuracy: 0.8195\n",
      "Epoch 3/5\n",
      "\n",
      "Epoch 00003: saving model to weights.03-0.63.h5\n",
      "26/26 - 20s - loss: 0.5752 - accuracy: 0.7652 - val_loss: 0.6318 - val_accuracy: 0.5659\n",
      "Epoch 4/5\n",
      "\n",
      "Epoch 00004: saving model to weights.04-0.63.h5\n",
      "26/26 - 20s - loss: 0.5040 - accuracy: 0.8054 - val_loss: 0.6324 - val_accuracy: 0.5902\n",
      "Epoch 5/5\n",
      "\n",
      "Epoch 00005: saving model to weights.05-0.35.h5\n",
      "26/26 - 20s - loss: 0.4332 - accuracy: 0.8187 - val_loss: 0.3531 - val_accuracy: 0.9171\n"
     ]
    },
    {
     "data": {
      "text/plain": [
       "<tensorflow.python.keras.callbacks.History at 0x7f15d63d8410>"
      ]
     },
     "execution_count": 12,
     "metadata": {},
     "output_type": "execute_result"
    }
   ],
   "source": [
    "model = build_model(dense_units=256)\n",
    "model.compile(\n",
    "    optimizer='sgd',\n",
    "    loss='sparse_categorical_crossentropy', \n",
    "    metrics=['accuracy'])\n",
    "  \n",
    "model.fit(train_batches, \n",
    "          epochs=5, \n",
    "          validation_data=validation_batches, \n",
    "          verbose=2,\n",
    "          callbacks=[ModelCheckpoint('weights.{epoch:02d}-{val_loss:.2f}.h5', verbose=1),\n",
    "          ])"
   ]
  },
  {
   "cell_type": "code",
   "execution_count": 13,
   "metadata": {
    "colab": {},
    "colab_type": "code",
    "id": "oGvjQ8IlMmK6"
   },
   "outputs": [
    {
     "name": "stdout",
     "output_type": "stream",
     "text": [
      "\n",
      "Epoch 00001: saving model to saved_model\n",
      "WARNING:tensorflow:From /opt/conda/lib/python3.7/site-packages/tensorflow_core/python/ops/resource_variable_ops.py:1786: calling BaseResourceVariable.__init__ (from tensorflow.python.ops.resource_variable_ops) with constraint is deprecated and will be removed in a future version.\n",
      "Instructions for updating:\n",
      "If using Keras pass *_constraint arguments to layers.\n"
     ]
    },
    {
     "name": "stderr",
     "output_type": "stream",
     "text": [
      "WARNING:tensorflow:From /opt/conda/lib/python3.7/site-packages/tensorflow_core/python/ops/resource_variable_ops.py:1786: calling BaseResourceVariable.__init__ (from tensorflow.python.ops.resource_variable_ops) with constraint is deprecated and will be removed in a future version.\n",
      "Instructions for updating:\n",
      "If using Keras pass *_constraint arguments to layers.\n"
     ]
    },
    {
     "name": "stdout",
     "output_type": "stream",
     "text": [
      "INFO:tensorflow:Assets written to: saved_model/assets\n"
     ]
    },
    {
     "name": "stderr",
     "output_type": "stream",
     "text": [
      "INFO:tensorflow:Assets written to: saved_model/assets\n"
     ]
    },
    {
     "name": "stdout",
     "output_type": "stream",
     "text": [
      "26/26 - 21s - loss: 0.6675 - accuracy: 0.5985 - val_loss: 0.6612 - val_accuracy: 0.5707\n"
     ]
    },
    {
     "data": {
      "text/plain": [
       "<tensorflow.python.keras.callbacks.History at 0x7f15d624eb10>"
      ]
     },
     "execution_count": 13,
     "metadata": {},
     "output_type": "execute_result"
    }
   ],
   "source": [
    "model = build_model(dense_units=256)\n",
    "model.compile(\n",
    "    optimizer='sgd',\n",
    "    loss='sparse_categorical_crossentropy', \n",
    "    metrics=['accuracy'])\n",
    "  \n",
    "model.fit(train_batches, \n",
    "          epochs=1, \n",
    "          validation_data=validation_batches, \n",
    "          verbose=2,\n",
    "          callbacks=[ModelCheckpoint('saved_model', verbose=1)\n",
    "          ])"
   ]
  },
  {
   "cell_type": "code",
   "execution_count": 14,
   "metadata": {
    "colab": {},
    "colab_type": "code",
    "id": "Y1ConwoB0EjD"
   },
   "outputs": [
    {
     "name": "stdout",
     "output_type": "stream",
     "text": [
      "Epoch 1/2\n",
      "\n",
      "Epoch 00001: saving model to model.h5\n",
      "26/26 - 20s - loss: 0.6730 - accuracy: 0.5900 - val_loss: 0.6298 - val_accuracy: 0.7463\n",
      "Epoch 2/2\n",
      "\n",
      "Epoch 00002: saving model to model.h5\n",
      "26/26 - 20s - loss: 0.6092 - accuracy: 0.6898 - val_loss: 0.5687 - val_accuracy: 0.8098\n"
     ]
    },
    {
     "data": {
      "text/plain": [
       "<tensorflow.python.keras.callbacks.History at 0x7f15d6045490>"
      ]
     },
     "execution_count": 14,
     "metadata": {},
     "output_type": "execute_result"
    }
   ],
   "source": [
    "model = build_model(dense_units=256)\n",
    "model.compile(\n",
    "    optimizer='sgd',\n",
    "    loss='sparse_categorical_crossentropy', \n",
    "    metrics=['accuracy'])\n",
    "  \n",
    "model.fit(train_batches, \n",
    "          epochs=2, \n",
    "          validation_data=validation_batches, \n",
    "          verbose=2,\n",
    "          callbacks=[ModelCheckpoint('model.h5', verbose=1)\n",
    "          ])"
   ]
  },
  {
   "cell_type": "markdown",
   "metadata": {
    "colab_type": "text",
    "id": "kptNF0--Lznv"
   },
   "source": [
    "## [Early stopping](https://keras.io/api/callbacks/early_stopping/)\n",
    "\n",
    "Stop training when a monitored metric has stopped improving."
   ]
  },
  {
   "cell_type": "code",
   "execution_count": 15,
   "metadata": {
    "colab": {},
    "colab_type": "code",
    "id": "KJOJTJYdCkdY"
   },
   "outputs": [
    {
     "name": "stdout",
     "output_type": "stream",
     "text": [
      "Epoch 1/50\n",
      "26/26 - 20s - loss: 0.6833 - accuracy: 0.5827 - val_loss: 0.6551 - val_accuracy: 0.6146\n",
      "Epoch 2/50\n",
      "26/26 - 20s - loss: 0.6318 - accuracy: 0.6764 - val_loss: 0.6454 - val_accuracy: 0.5707\n",
      "Epoch 3/50\n",
      "26/26 - 20s - loss: 0.6013 - accuracy: 0.7080 - val_loss: 0.5607 - val_accuracy: 0.7707\n",
      "Epoch 4/50\n",
      "26/26 - 20s - loss: 0.5801 - accuracy: 0.7251 - val_loss: 0.5155 - val_accuracy: 0.8146\n",
      "Epoch 5/50\n",
      "26/26 - 20s - loss: 0.5293 - accuracy: 0.7421 - val_loss: 0.4881 - val_accuracy: 0.8293\n",
      "Epoch 6/50\n",
      "26/26 - 21s - loss: 0.4658 - accuracy: 0.7993 - val_loss: 0.6965 - val_accuracy: 0.5854\n",
      "Epoch 7/50\n",
      "26/26 - 20s - loss: 0.4141 - accuracy: 0.8285 - val_loss: 0.4063 - val_accuracy: 0.8488\n",
      "Epoch 8/50\n",
      "26/26 - 21s - loss: 0.3782 - accuracy: 0.8601 - val_loss: 0.3169 - val_accuracy: 0.8927\n",
      "Epoch 9/50\n",
      "26/26 - 20s - loss: 0.3175 - accuracy: 0.8844 - val_loss: 0.4298 - val_accuracy: 0.7463\n",
      "Epoch 10/50\n",
      "26/26 - 21s - loss: 0.2699 - accuracy: 0.9027 - val_loss: 0.2106 - val_accuracy: 0.9415\n",
      "Epoch 11/50\n",
      "26/26 - 20s - loss: 0.1939 - accuracy: 0.9453 - val_loss: 0.1717 - val_accuracy: 0.9512\n",
      "Epoch 12/50\n",
      "26/26 - 20s - loss: 0.1550 - accuracy: 0.9647 - val_loss: 0.1161 - val_accuracy: 0.9756\n",
      "Epoch 13/50\n",
      "26/26 - 20s - loss: 0.1562 - accuracy: 0.9477 - val_loss: 0.1180 - val_accuracy: 0.9659\n",
      "Epoch 14/50\n",
      "26/26 - 20s - loss: 0.1043 - accuracy: 0.9769 - val_loss: 0.0990 - val_accuracy: 0.9756\n",
      "Epoch 15/50\n",
      "Restoring model weights from the end of the best epoch.\n",
      "26/26 - 21s - loss: 0.1040 - accuracy: 0.9781 - val_loss: 0.0844 - val_accuracy: 0.9854\n",
      "Epoch 00015: early stopping\n"
     ]
    },
    {
     "data": {
      "text/plain": [
       "<tensorflow.python.keras.callbacks.History at 0x7f15d5fbcf90>"
      ]
     },
     "execution_count": 15,
     "metadata": {},
     "output_type": "execute_result"
    }
   ],
   "source": [
    "model = build_model(dense_units=256)\n",
    "model.compile(\n",
    "    optimizer='sgd',\n",
    "    loss='sparse_categorical_crossentropy', \n",
    "    metrics=['accuracy'])\n",
    "  \n",
    "model.fit(train_batches, \n",
    "          epochs=50, \n",
    "          validation_data=validation_batches, \n",
    "          verbose=2,\n",
    "          callbacks=[EarlyStopping(\n",
    "              patience=3,\n",
    "              min_delta=0.05,\n",
    "              baseline=0.8,\n",
    "              mode='min',\n",
    "              monitor='val_loss',\n",
    "              restore_best_weights=True,\n",
    "              verbose=1)\n",
    "          ])"
   ]
  },
  {
   "cell_type": "markdown",
   "metadata": {
    "colab_type": "text",
    "id": "8mDzWUD4Pqq5"
   },
   "source": [
    "## [CSV Logger](https://keras.io/api/callbacks/csv_logger/)\n",
    "\n",
    "Callback that streams epoch results to a CSV file."
   ]
  },
  {
   "cell_type": "code",
   "execution_count": 16,
   "metadata": {
    "colab": {},
    "colab_type": "code",
    "id": "cffnMpmGPtMh"
   },
   "outputs": [
    {
     "name": "stdout",
     "output_type": "stream",
     "text": [
      "Epoch 1/5\n",
      "26/26 [==============================] - 22s 831ms/step - loss: 0.6682 - accuracy: 0.5925 - val_loss: 0.6592 - val_accuracy: 0.5951\n",
      "Epoch 2/5\n",
      "26/26 [==============================] - 21s 807ms/step - loss: 0.6334 - accuracy: 0.6849 - val_loss: 0.6309 - val_accuracy: 0.6049\n",
      "Epoch 3/5\n",
      "26/26 [==============================] - 21s 800ms/step - loss: 0.5753 - accuracy: 0.7348 - val_loss: 0.9050 - val_accuracy: 0.4634\n",
      "Epoch 4/5\n",
      "26/26 [==============================] - 21s 823ms/step - loss: 0.5725 - accuracy: 0.7056 - val_loss: 0.5834 - val_accuracy: 0.6390\n",
      "Epoch 5/5\n",
      "26/26 [==============================] - 20s 757ms/step - loss: 0.5187 - accuracy: 0.7518 - val_loss: 0.4503 - val_accuracy: 0.8829\n"
     ]
    },
    {
     "data": {
      "text/plain": [
       "<tensorflow.python.keras.callbacks.History at 0x7f15d5e05dd0>"
      ]
     },
     "execution_count": 16,
     "metadata": {},
     "output_type": "execute_result"
    }
   ],
   "source": [
    "model = build_model(dense_units=256)\n",
    "model.compile(\n",
    "    optimizer='sgd',\n",
    "    loss='sparse_categorical_crossentropy', \n",
    "    metrics=['accuracy'])\n",
    "  \n",
    "csv_file = 'training.csv'\n",
    "\n",
    "model.fit(train_batches, \n",
    "          epochs=5, \n",
    "          validation_data=validation_batches, \n",
    "          callbacks=[CSVLogger(csv_file)\n",
    "          ])"
   ]
  },
  {
   "cell_type": "code",
   "execution_count": 17,
   "metadata": {
    "colab": {},
    "colab_type": "code",
    "id": "B9tkYi03QV7R"
   },
   "outputs": [
    {
     "data": {
      "text/html": [
       "<div>\n",
       "<style scoped>\n",
       "    .dataframe tbody tr th:only-of-type {\n",
       "        vertical-align: middle;\n",
       "    }\n",
       "\n",
       "    .dataframe tbody tr th {\n",
       "        vertical-align: top;\n",
       "    }\n",
       "\n",
       "    .dataframe thead th {\n",
       "        text-align: right;\n",
       "    }\n",
       "</style>\n",
       "<table border=\"1\" class=\"dataframe\">\n",
       "  <thead>\n",
       "    <tr style=\"text-align: right;\">\n",
       "      <th></th>\n",
       "      <th>epoch</th>\n",
       "      <th>accuracy</th>\n",
       "      <th>loss</th>\n",
       "      <th>val_accuracy</th>\n",
       "      <th>val_loss</th>\n",
       "    </tr>\n",
       "  </thead>\n",
       "  <tbody>\n",
       "    <tr>\n",
       "      <th>0</th>\n",
       "      <td>0</td>\n",
       "      <td>0.592457</td>\n",
       "      <td>0.668551</td>\n",
       "      <td>0.595122</td>\n",
       "      <td>0.659243</td>\n",
       "    </tr>\n",
       "    <tr>\n",
       "      <th>1</th>\n",
       "      <td>1</td>\n",
       "      <td>0.684915</td>\n",
       "      <td>0.633992</td>\n",
       "      <td>0.604878</td>\n",
       "      <td>0.630897</td>\n",
       "    </tr>\n",
       "    <tr>\n",
       "      <th>2</th>\n",
       "      <td>2</td>\n",
       "      <td>0.734793</td>\n",
       "      <td>0.576918</td>\n",
       "      <td>0.463415</td>\n",
       "      <td>0.905005</td>\n",
       "    </tr>\n",
       "    <tr>\n",
       "      <th>3</th>\n",
       "      <td>3</td>\n",
       "      <td>0.705596</td>\n",
       "      <td>0.573274</td>\n",
       "      <td>0.639024</td>\n",
       "      <td>0.583387</td>\n",
       "    </tr>\n",
       "    <tr>\n",
       "      <th>4</th>\n",
       "      <td>4</td>\n",
       "      <td>0.751825</td>\n",
       "      <td>0.520045</td>\n",
       "      <td>0.882927</td>\n",
       "      <td>0.450344</td>\n",
       "    </tr>\n",
       "  </tbody>\n",
       "</table>\n",
       "</div>"
      ],
      "text/plain": [
       "   epoch  accuracy      loss  val_accuracy  val_loss\n",
       "0      0  0.592457  0.668551      0.595122  0.659243\n",
       "1      1  0.684915  0.633992      0.604878  0.630897\n",
       "2      2  0.734793  0.576918      0.463415  0.905005\n",
       "3      3  0.705596  0.573274      0.639024  0.583387\n",
       "4      4  0.751825  0.520045      0.882927  0.450344"
      ]
     },
     "execution_count": 17,
     "metadata": {},
     "output_type": "execute_result"
    }
   ],
   "source": [
    "pd.read_csv(csv_file).head()"
   ]
  },
  {
   "cell_type": "markdown",
   "metadata": {
    "colab_type": "text",
    "id": "Dt9C2Y9fRBKN"
   },
   "source": [
    "## [Learning Rate Scheduler](https://keras.io/api/callbacks/learning_rate_scheduler/)\n",
    "\n",
    "Updates the learning rate during training."
   ]
  },
  {
   "cell_type": "code",
   "execution_count": 18,
   "metadata": {
    "colab": {},
    "colab_type": "code",
    "id": "aJi-xY2VRC03"
   },
   "outputs": [
    {
     "name": "stdout",
     "output_type": "stream",
     "text": [
      "\n",
      "Epoch 00001: LearningRateScheduler reducing learning rate to 0.005.\n",
      "Epoch 1/5\n",
      "26/26 [==============================] - 31s 1s/step - loss: 0.6797 - accuracy: 0.5438 - val_loss: 0.6702 - val_accuracy: 0.6390\n",
      "\n",
      "Epoch 00002: LearningRateScheduler reducing learning rate to 0.0025.\n",
      "Epoch 2/5\n",
      "26/26 [==============================] - 21s 807ms/step - loss: 0.6622 - accuracy: 0.6058 - val_loss: 0.6637 - val_accuracy: 0.6195\n",
      "\n",
      "Epoch 00003: LearningRateScheduler reducing learning rate to 0.00125.\n",
      "Epoch 3/5\n",
      "26/26 [==============================] - 20s 765ms/step - loss: 0.6514 - accuracy: 0.6302 - val_loss: 0.6633 - val_accuracy: 0.5512\n",
      "\n",
      "Epoch 00004: LearningRateScheduler reducing learning rate to 0.000625.\n",
      "Epoch 4/5\n",
      "26/26 [==============================] - 20s 777ms/step - loss: 0.6460 - accuracy: 0.6338 - val_loss: 0.6599 - val_accuracy: 0.5805\n",
      "\n",
      "Epoch 00005: LearningRateScheduler reducing learning rate to 0.0003125.\n",
      "Epoch 5/5\n",
      "26/26 [==============================] - 20s 766ms/step - loss: 0.6438 - accuracy: 0.6448 - val_loss: 0.6581 - val_accuracy: 0.5951\n"
     ]
    },
    {
     "data": {
      "text/plain": [
       "<tensorflow.python.keras.callbacks.History at 0x7f15d3c27210>"
      ]
     },
     "execution_count": 18,
     "metadata": {},
     "output_type": "execute_result"
    }
   ],
   "source": [
    "model = build_model(dense_units=256)\n",
    "model.compile(\n",
    "    optimizer='sgd',\n",
    "    loss='sparse_categorical_crossentropy', \n",
    "    metrics=['accuracy'])\n",
    "  \n",
    "def step_decay(epoch):\n",
    "\tinitial_lr = 0.01\n",
    "\tdrop = 0.5\n",
    "\tepochs_drop = 1\n",
    "\tlr = initial_lr * math.pow(drop, math.floor((1+epoch)/epochs_drop))\n",
    "\treturn lr\n",
    "\n",
    "model.fit(train_batches, \n",
    "          epochs=5, \n",
    "          validation_data=validation_batches, \n",
    "          callbacks=[LearningRateScheduler(step_decay, verbose=1),\n",
    "                    TensorBoard(log_dir='./log_dir')])"
   ]
  },
  {
   "cell_type": "code",
   "execution_count": 19,
   "metadata": {
    "colab": {},
    "colab_type": "code",
    "id": "M2S4n8nrbV91"
   },
   "outputs": [
    {
     "data": {
      "text/html": [
       "\n",
       "      <iframe id=\"tensorboard-frame-deeb5f770e38ad71\" width=\"100%\" height=\"800\" frameborder=\"0\">\n",
       "      </iframe>\n",
       "      <script>\n",
       "        (function() {\n",
       "          const frame = document.getElementById(\"tensorboard-frame-deeb5f770e38ad71\");\n",
       "          const url = new URL(\"/\", window.location);\n",
       "          url.port = 6007;\n",
       "          frame.src = url;\n",
       "        })();\n",
       "      </script>\n",
       "  "
      ],
      "text/plain": [
       "<IPython.core.display.HTML object>"
      ]
     },
     "metadata": {},
     "output_type": "display_data"
    }
   ],
   "source": [
    "%tensorboard --logdir log_dir"
   ]
  },
  {
   "cell_type": "markdown",
   "metadata": {
    "colab_type": "text",
    "id": "y0wcuQyJE_UK"
   },
   "source": [
    "## [ReduceLROnPlateau](https://keras.io/api/callbacks/reduce_lr_on_plateau/)\n",
    "\n",
    "Reduce learning rate when a metric has stopped improving."
   ]
  },
  {
   "cell_type": "code",
   "execution_count": 20,
   "metadata": {
    "colab": {},
    "colab_type": "code",
    "id": "4naxZ-eCFB27"
   },
   "outputs": [
    {
     "name": "stdout",
     "output_type": "stream",
     "text": [
      "Epoch 1/50\n",
      "26/26 [==============================] - 22s 857ms/step - loss: 0.6878 - accuracy: 0.5462 - val_loss: 0.6879 - val_accuracy: 0.4780\n",
      "Epoch 2/50\n",
      "26/26 [==============================] - 21s 800ms/step - loss: 0.6185 - accuracy: 0.6825 - val_loss: 0.6027 - val_accuracy: 0.6927\n",
      "Epoch 3/50\n",
      "26/26 [==============================] - 21s 808ms/step - loss: 0.5879 - accuracy: 0.6776 - val_loss: 0.5627 - val_accuracy: 0.7366\n",
      "Epoch 4/50\n",
      "26/26 [==============================] - 20s 784ms/step - loss: 0.5470 - accuracy: 0.7214 - val_loss: 0.4878 - val_accuracy: 0.8146\n",
      "Epoch 5/50\n",
      "26/26 [==============================] - 21s 812ms/step - loss: 0.4897 - accuracy: 0.7786 - val_loss: 0.4282 - val_accuracy: 0.8976\n",
      "Epoch 6/50\n",
      "25/26 [===========================>..] - ETA: 0s - loss: 0.4272 - accuracy: 0.8438\n",
      "Epoch 00006: ReduceLROnPlateau reducing learning rate to 0.0019999999552965165.\n",
      "26/26 [==============================] - 20s 786ms/step - loss: 0.4234 - accuracy: 0.8467 - val_loss: 0.4455 - val_accuracy: 0.8000\n",
      "Epoch 7/50\n",
      "26/26 [==============================] - 21s 798ms/step - loss: 0.3381 - accuracy: 0.9112 - val_loss: 0.3203 - val_accuracy: 0.9268\n",
      "Epoch 8/50\n",
      "26/26 [==============================] - 21s 796ms/step - loss: 0.3112 - accuracy: 0.9319 - val_loss: 0.3007 - val_accuracy: 0.9268\n",
      "Epoch 9/50\n",
      "26/26 [==============================] - 20s 785ms/step - loss: 0.2953 - accuracy: 0.9221 - val_loss: 0.2803 - val_accuracy: 0.9268\n",
      "Epoch 10/50\n",
      "26/26 [==============================] - 21s 800ms/step - loss: 0.2773 - accuracy: 0.9270 - val_loss: 0.2565 - val_accuracy: 0.9415\n",
      "Epoch 11/50\n",
      "25/26 [===========================>..] - ETA: 0s - loss: 0.2638 - accuracy: 0.9362\n",
      "Epoch 00011: ReduceLROnPlateau reducing learning rate to 0.001.\n",
      "26/26 [==============================] - 20s 781ms/step - loss: 0.2665 - accuracy: 0.9343 - val_loss: 0.2596 - val_accuracy: 0.9220\n",
      "Epoch 12/50\n",
      "26/26 [==============================] - 21s 815ms/step - loss: 0.2502 - accuracy: 0.9416 - val_loss: 0.2490 - val_accuracy: 0.9220\n",
      "Epoch 13/50\n",
      "26/26 [==============================] - 21s 812ms/step - loss: 0.2427 - accuracy: 0.9392 - val_loss: 0.2271 - val_accuracy: 0.9512\n",
      "Epoch 14/50\n",
      "26/26 [==============================] - 21s 808ms/step - loss: 0.2370 - accuracy: 0.9440 - val_loss: 0.2228 - val_accuracy: 0.9415\n",
      "Epoch 15/50\n",
      "25/26 [===========================>..] - ETA: 0s - loss: 0.2304 - accuracy: 0.9475\n",
      "Epoch 00015: ReduceLROnPlateau reducing learning rate to 0.001.\n",
      "26/26 [==============================] - 20s 781ms/step - loss: 0.2302 - accuracy: 0.9465 - val_loss: 0.2282 - val_accuracy: 0.9317\n",
      "Epoch 16/50\n",
      "25/26 [===========================>..] - ETA: 0s - loss: 0.2245 - accuracy: 0.9525\n",
      "Epoch 00016: ReduceLROnPlateau reducing learning rate to 0.001.\n",
      "26/26 [==============================] - 20s 761ms/step - loss: 0.2242 - accuracy: 0.9513 - val_loss: 0.2313 - val_accuracy: 0.9268\n",
      "Epoch 17/50\n",
      "26/26 [==============================] - 20s 773ms/step - loss: 0.2183 - accuracy: 0.9501 - val_loss: 0.2065 - val_accuracy: 0.9415\n",
      "Epoch 18/50\n",
      "25/26 [===========================>..] - ETA: 0s - loss: 0.2108 - accuracy: 0.9513\n",
      "Epoch 00018: ReduceLROnPlateau reducing learning rate to 0.001.\n",
      "26/26 [==============================] - 20s 761ms/step - loss: 0.2101 - accuracy: 0.9513 - val_loss: 0.2106 - val_accuracy: 0.9366\n",
      "Epoch 19/50\n",
      "26/26 [==============================] - 21s 796ms/step - loss: 0.2041 - accuracy: 0.9550 - val_loss: 0.1953 - val_accuracy: 0.9415\n",
      "Epoch 20/50\n",
      "26/26 [==============================] - 20s 779ms/step - loss: 0.1988 - accuracy: 0.9574 - val_loss: 0.1875 - val_accuracy: 0.9512\n",
      "Epoch 21/50\n",
      "26/26 [==============================] - 21s 810ms/step - loss: 0.1931 - accuracy: 0.9562 - val_loss: 0.1803 - val_accuracy: 0.9512\n",
      "Epoch 22/50\n",
      "25/26 [===========================>..] - ETA: 0s - loss: 0.1889 - accuracy: 0.9625\n",
      "Epoch 00022: ReduceLROnPlateau reducing learning rate to 0.001.\n",
      "26/26 [==============================] - 20s 765ms/step - loss: 0.1897 - accuracy: 0.9635 - val_loss: 0.1987 - val_accuracy: 0.9317\n",
      "Epoch 23/50\n",
      "26/26 [==============================] - 21s 806ms/step - loss: 0.1839 - accuracy: 0.9635 - val_loss: 0.1787 - val_accuracy: 0.9463\n",
      "Epoch 24/50\n",
      "26/26 [==============================] - 21s 794ms/step - loss: 0.1779 - accuracy: 0.9672 - val_loss: 0.1730 - val_accuracy: 0.9463\n",
      "Epoch 25/50\n",
      "26/26 [==============================] - 21s 796ms/step - loss: 0.1738 - accuracy: 0.9659 - val_loss: 0.1628 - val_accuracy: 0.9610\n",
      "Epoch 26/50\n",
      "26/26 [==============================] - 21s 796ms/step - loss: 0.1692 - accuracy: 0.9708 - val_loss: 0.1620 - val_accuracy: 0.9561\n",
      "Epoch 27/50\n",
      "25/26 [===========================>..] - ETA: 0s - loss: 0.1647 - accuracy: 0.9700\n",
      "Epoch 00027: ReduceLROnPlateau reducing learning rate to 0.001.\n",
      "26/26 [==============================] - 21s 812ms/step - loss: 0.1630 - accuracy: 0.9708 - val_loss: 0.1688 - val_accuracy: 0.9463\n",
      "Epoch 28/50\n",
      "25/26 [===========================>..] - ETA: 0s - loss: 0.1589 - accuracy: 0.9700\n",
      "Epoch 00028: ReduceLROnPlateau reducing learning rate to 0.001.\n",
      "26/26 [==============================] - 20s 769ms/step - loss: 0.1594 - accuracy: 0.9696 - val_loss: 0.1646 - val_accuracy: 0.9463\n",
      "Epoch 29/50\n",
      "26/26 [==============================] - 21s 792ms/step - loss: 0.1542 - accuracy: 0.9708 - val_loss: 0.1602 - val_accuracy: 0.9512\n",
      "Epoch 30/50\n",
      "26/26 [==============================] - 20s 769ms/step - loss: 0.1492 - accuracy: 0.9745 - val_loss: 0.1479 - val_accuracy: 0.9561\n",
      "Epoch 31/50\n",
      "26/26 [==============================] - 20s 774ms/step - loss: 0.1466 - accuracy: 0.9732 - val_loss: 0.1440 - val_accuracy: 0.9561\n",
      "Epoch 32/50\n",
      "26/26 [==============================] - 20s 776ms/step - loss: 0.1441 - accuracy: 0.9732 - val_loss: 0.1413 - val_accuracy: 0.9561\n",
      "Epoch 33/50\n",
      "26/26 [==============================] - 21s 789ms/step - loss: 0.1401 - accuracy: 0.9757 - val_loss: 0.1348 - val_accuracy: 0.9756\n",
      "Epoch 34/50\n",
      "25/26 [===========================>..] - ETA: 0s - loss: 0.1381 - accuracy: 0.9762\n",
      "Epoch 00034: ReduceLROnPlateau reducing learning rate to 0.001.\n",
      "26/26 [==============================] - 20s 762ms/step - loss: 0.1382 - accuracy: 0.9757 - val_loss: 0.1356 - val_accuracy: 0.9561\n",
      "Epoch 35/50\n",
      "26/26 [==============================] - 21s 794ms/step - loss: 0.1315 - accuracy: 0.9769 - val_loss: 0.1319 - val_accuracy: 0.9561\n",
      "Epoch 36/50\n",
      "25/26 [===========================>..] - ETA: 0s - loss: 0.1295 - accuracy: 0.9762\n",
      "Epoch 00036: ReduceLROnPlateau reducing learning rate to 0.001.\n",
      "26/26 [==============================] - 21s 798ms/step - loss: 0.1283 - accuracy: 0.9769 - val_loss: 0.1345 - val_accuracy: 0.9561\n",
      "Epoch 37/50\n",
      "25/26 [===========================>..] - ETA: 0s - loss: 0.1276 - accuracy: 0.9762\n",
      "Epoch 00037: ReduceLROnPlateau reducing learning rate to 0.001.\n",
      "26/26 [==============================] - 20s 766ms/step - loss: 0.1264 - accuracy: 0.9769 - val_loss: 0.1336 - val_accuracy: 0.9512\n",
      "Epoch 38/50\n",
      "26/26 [==============================] - 20s 765ms/step - loss: 0.1223 - accuracy: 0.9757 - val_loss: 0.1230 - val_accuracy: 0.9610\n",
      "Epoch 39/50\n",
      "25/26 [===========================>..] - ETA: 0s - loss: 0.1199 - accuracy: 0.9775\n",
      "Epoch 00039: ReduceLROnPlateau reducing learning rate to 0.001.\n",
      "26/26 [==============================] - 21s 792ms/step - loss: 0.1191 - accuracy: 0.9781 - val_loss: 0.1288 - val_accuracy: 0.9512\n",
      "Epoch 40/50\n",
      "25/26 [===========================>..] - ETA: 0s - loss: 0.1176 - accuracy: 0.9800\n",
      "Epoch 00040: ReduceLROnPlateau reducing learning rate to 0.001.\n",
      "26/26 [==============================] - 20s 762ms/step - loss: 0.1178 - accuracy: 0.9793 - val_loss: 0.1295 - val_accuracy: 0.9512\n",
      "Epoch 41/50\n",
      "26/26 [==============================] - 20s 777ms/step - loss: 0.1132 - accuracy: 0.9818 - val_loss: 0.1216 - val_accuracy: 0.9512\n",
      "Epoch 42/50\n",
      "26/26 [==============================] - 21s 800ms/step - loss: 0.1113 - accuracy: 0.9781 - val_loss: 0.1191 - val_accuracy: 0.9561\n",
      "Epoch 43/50\n",
      "26/26 [==============================] - 20s 765ms/step - loss: 0.1084 - accuracy: 0.9781 - val_loss: 0.1114 - val_accuracy: 0.9756\n",
      "Epoch 44/50\n",
      "25/26 [===========================>..] - ETA: 0s - loss: 0.1036 - accuracy: 0.9812\n",
      "Epoch 00044: ReduceLROnPlateau reducing learning rate to 0.001.\n",
      "26/26 [==============================] - 20s 769ms/step - loss: 0.1051 - accuracy: 0.9805 - val_loss: 0.1119 - val_accuracy: 0.9561\n",
      "Epoch 45/50\n",
      "25/26 [===========================>..] - ETA: 0s - loss: 0.1048 - accuracy: 0.9800\n",
      "Epoch 00045: ReduceLROnPlateau reducing learning rate to 0.001.\n",
      "26/26 [==============================] - 20s 761ms/step - loss: 0.1058 - accuracy: 0.9793 - val_loss: 0.1160 - val_accuracy: 0.9512\n",
      "Epoch 46/50\n",
      "25/26 [===========================>..] - ETA: 0s - loss: 0.1015 - accuracy: 0.9787\n",
      "Epoch 00046: ReduceLROnPlateau reducing learning rate to 0.001.\n",
      "26/26 [==============================] - 21s 792ms/step - loss: 0.1006 - accuracy: 0.9793 - val_loss: 0.1115 - val_accuracy: 0.9512\n",
      "Epoch 47/50\n",
      "26/26 [==============================] - 20s 765ms/step - loss: 0.0995 - accuracy: 0.9793 - val_loss: 0.1112 - val_accuracy: 0.9512\n",
      "Epoch 48/50\n",
      "25/26 [===========================>..] - ETA: 0s - loss: 0.0976 - accuracy: 0.9825\n",
      "Epoch 00048: ReduceLROnPlateau reducing learning rate to 0.001.\n",
      "26/26 [==============================] - 20s 762ms/step - loss: 0.0976 - accuracy: 0.9830 - val_loss: 0.1177 - val_accuracy: 0.9561\n",
      "Epoch 49/50\n",
      "26/26 [==============================] - 20s 765ms/step - loss: 0.0946 - accuracy: 0.9805 - val_loss: 0.1010 - val_accuracy: 0.9756\n",
      "Epoch 50/50\n",
      "26/26 [==============================] - 20s 766ms/step - loss: 0.0929 - accuracy: 0.9830 - val_loss: 0.0992 - val_accuracy: 0.9756\n"
     ]
    },
    {
     "data": {
      "text/plain": [
       "<tensorflow.python.keras.callbacks.History at 0x7f15d5e20210>"
      ]
     },
     "execution_count": 20,
     "metadata": {},
     "output_type": "execute_result"
    }
   ],
   "source": [
    "model = build_model(dense_units=256)\n",
    "model.compile(\n",
    "    optimizer='sgd',\n",
    "    loss='sparse_categorical_crossentropy', \n",
    "    metrics=['accuracy'])\n",
    "  \n",
    "model.fit(train_batches, \n",
    "          epochs=50, \n",
    "          validation_data=validation_batches, \n",
    "          callbacks=[ReduceLROnPlateau(monitor='val_loss', \n",
    "                                       factor=0.2, verbose=1,\n",
    "                                       patience=1, min_lr=0.001),\n",
    "                     TensorBoard(log_dir='./log_dir')])"
   ]
  },
  {
   "cell_type": "code",
   "execution_count": 21,
   "metadata": {
    "colab": {},
    "colab_type": "code",
    "id": "isfTWP4NYudk"
   },
   "outputs": [
    {
     "data": {
      "text/plain": [
       "Reusing TensorBoard on port 6007 (pid 4637), started 0:17:03 ago. (Use '!kill 4637' to kill it.)"
      ]
     },
     "metadata": {},
     "output_type": "display_data"
    },
    {
     "data": {
      "text/html": [
       "\n",
       "      <iframe id=\"tensorboard-frame-5bcd2d50d1b26ff6\" width=\"100%\" height=\"800\" frameborder=\"0\">\n",
       "      </iframe>\n",
       "      <script>\n",
       "        (function() {\n",
       "          const frame = document.getElementById(\"tensorboard-frame-5bcd2d50d1b26ff6\");\n",
       "          const url = new URL(\"/\", window.location);\n",
       "          url.port = 6007;\n",
       "          frame.src = url;\n",
       "        })();\n",
       "      </script>\n",
       "  "
      ],
      "text/plain": [
       "<IPython.core.display.HTML object>"
      ]
     },
     "metadata": {},
     "output_type": "display_data"
    }
   ],
   "source": [
    "%tensorboard --logdir log_dir"
   ]
  }
 ],
 "metadata": {
  "colab": {
   "collapsed_sections": [],
   "include_colab_link": true,
   "name": "ExploringCallbacks.ipynb",
   "provenance": []
  },
  "kernelspec": {
   "display_name": "Python 3",
   "language": "python",
   "name": "python3"
  },
  "language_info": {
   "codemirror_mode": {
    "name": "ipython",
    "version": 3
   },
   "file_extension": ".py",
   "mimetype": "text/x-python",
   "name": "python",
   "nbconvert_exporter": "python",
   "pygments_lexer": "ipython3",
   "version": "3.7.6"
  }
 },
 "nbformat": 4,
 "nbformat_minor": 4
}
